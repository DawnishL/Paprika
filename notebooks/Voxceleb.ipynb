{
 "cells": [
  {
   "cell_type": "markdown",
   "id": "860caaf1",
   "metadata": {},
   "source": [
    "# Data Preparation & Processing"
   ]
  },
  {
   "cell_type": "code",
   "execution_count": null,
   "id": "2a5b8ec9",
   "metadata": {},
   "outputs": [],
   "source": [
    "import os\n",
    "from pathlib import Path\n",
    "import pandas as pd\n",
    "import torchaudio\n",
    "\n",
    "VOX_PATH = \"/VOXCELEB/wav\"\n",
    "audio_files = []\n",
    "speaker_ids = []\n",
    "durations = []\n",
    "\n",
    "for speaker_dir in Path(VOX_PATH).iterdir():\n",
    "    if speaker_dir.is_dir():\n",
    "        for audio_path in speaker_dir.rglob(\"*.wav\"):\n",
    "            try:\n",
    "                info = torchaudio.info(str(audio_path))\n",
    "                duration = info.num_frames / info.sample_rate\n",
    "            except Exception as e:\n",
    "                duration = None\n",
    "            audio_files.append(str(audio_path))\n",
    "            speaker_ids.append(speaker_dir.name)\n",
    "            durations.append(duration)\n",
    "\n",
    "df = pd.DataFrame({\n",
    "    \"file_path\": audio_files,\n",
    "    \"speaker_id\": speaker_ids,\n",
    "    \"duration\": durations\n",
    "})\n",
    "\n",
    "N = 10\n",
    "df_sampled = df.groupby(\"speaker_id\").sample(n=min(N, len(df)), random_state=42)\n",
    "\n",
    "df_sampled.to_csv(\"voxceleb_samples.csv\", index=False)\n"
   ]
  },
  {
   "cell_type": "markdown",
   "id": "6e3766a4",
   "metadata": {},
   "source": [
    "# ECAPA-TDNN Feature Extraction & Feature Database Establishment"
   ]
  },
  {
   "cell_type": "code",
   "execution_count": null,
   "id": "6e8aca9a",
   "metadata": {},
   "outputs": [],
   "source": [
    "import pandas as pd\n",
    "import torch\n",
    "from speechbrain.pretrained import EncoderClassifier\n",
    "from tqdm import tqdm\n",
    "\n",
    "classifier = EncoderClassifier.from_hparams(source=\"speechbrain/spkrec-ecapa-voxceleb\", run_opts={\"device\":\"cpu\"})\n",
    "\n",
    "df = pd.read_csv(\"/voxceleb_samples.csv\")\n",
    "\n",
    "speaker_embeds = {}\n",
    "\n",
    "for speaker_id, group in tqdm(df.groupby(\"speaker_id\")):\n",
    "    embeds = []\n",
    "    for file_path in group[\"file_path\"]:\n",
    "        signal = classifier.load_audio(file_path)\n",
    "        embedding = classifier.encode_batch(signal.unsqueeze(0))\n",
    "        embeds.append(embedding.squeeze(0).detach().numpy())\n",
    "    speaker_embeds[speaker_id] = torch.tensor(embeds).mean(dim=0).numpy()\n",
    "\n",
    "\n",
    "import numpy as np\n",
    "np.savez(\"speaker_embeddings.npz\", **speaker_embeds)\n"
   ]
  },
  {
   "cell_type": "markdown",
   "id": "b6585310",
   "metadata": {},
   "source": [
    "# Mapping Dictionary Construction"
   ]
  },
  {
   "cell_type": "code",
   "execution_count": null,
   "id": "9ab5309a",
   "metadata": {},
   "outputs": [],
   "source": [
    "import pandas as pd\n",
    "\n",
    "meta = pd.read_csv('/Users/liuxiaoyue/Documents/TL/Project_root/vox1_meta.csv', sep='\\t')\n",
    "id2name = pd.Series(meta['VGGFace1 ID'].values, index=meta['VoxCeleb1 ID']).to_dict()\n"
   ]
  },
  {
   "cell_type": "markdown",
   "id": "42538399",
   "metadata": {},
   "source": [
    "# Most Similar Celebrity Match"
   ]
  },
  {
   "cell_type": "code",
   "execution_count": null,
   "id": "e71d024a",
   "metadata": {},
   "outputs": [],
   "source": [
    "import numpy as np\n",
    "from speechbrain.pretrained import EncoderClassifier\n",
    "\n",
    "data = np.load(\"speaker_embeddings.npz\")\n",
    "speaker_ids = list(data.keys())\n",
    "embeds = np.array([data[sid].squeeze() for sid in speaker_ids]) \n",
    "\n",
    "classifier = EncoderClassifier.from_hparams(source=\"speechbrain/spkrec-ecapa-voxceleb\", run_opts={\"device\":\"cpu\"})\n",
    "\n",
    "def extract_embedding(audio_path):\n",
    "    signal = classifier.load_audio(audio_path)\n",
    "    emb = classifier.encode_batch(signal.unsqueeze(0)).squeeze().detach().numpy() \n",
    "    return emb\n",
    "\n",
    "def match_top3(audio_path):\n",
    "    query_emb = extract_embedding(audio_path)\n",
    "    sim = np.dot(embeds, query_emb) / (np.linalg.norm(embeds, axis=1) * np.linalg.norm(query_emb))\n",
    "    top3_idx = np.argsort(sim)[-3:][::-1]\n",
    "    results = []\n",
    "    for i in top3_idx:\n",
    "        results.append(speaker_ids[i])\n",
    "    return results\n",
    "\n",
    "\n",
    "    return results\n",
    "\n",
    "\n",
    "print(match_top3(\"query audio.wav\"))\n"
   ]
  },
  {
   "cell_type": "markdown",
   "id": "f80fd4bc",
   "metadata": {},
   "source": [
    "# Top-1 / Top-3 Accuracy Evaluation"
   ]
  },
  {
   "cell_type": "code",
   "execution_count": null,
   "id": "c8799894",
   "metadata": {},
   "outputs": [],
   "source": [
    "import os\n",
    "from tqdm import tqdm\n",
    "\n",
    "test_root = \"/VOXCELEB/wav\"\n",
    "\n",
    "top1_correct = 0\n",
    "top3_correct = 0\n",
    "total = 0\n",
    "\n",
    "for speaker_id in tqdm(os.listdir(test_root)):\n",
    "    speaker_dir = os.path.join(test_root, speaker_id)\n",
    "    if not os.path.isdir(speaker_dir):\n",
    "        continue\n",
    "    for session in os.listdir(speaker_dir):\n",
    "        session_dir = os.path.join(speaker_dir, session)\n",
    "        if not os.path.isdir(session_dir):\n",
    "            continue\n",
    "        for wavfile in os.listdir(session_dir):\n",
    "            if not wavfile.endswith(\".wav\"):\n",
    "                continue\n",
    "            audio_path = os.path.join(session_dir, wavfile)\n",
    "            results = match_top3(audio_path)\n",
    "            true_id = speaker_id\n",
    "            total += 1\n",
    "            if results[0] == true_id:\n",
    "                top1_correct += 1\n",
    "            if true_id in results:\n",
    "                top3_correct += 1\n",
    "            if true_id not in results:\n",
    "                print(f\"Audio: {audio_path} | Real ID: {true_id} | Predicted Top 3: {results}\")\n",
    "\n",
    "if total == 0:\n",
    "    print(\"No test samples found, please check the directory structure and file names!\")\n",
    "else:\n",
    "    print(f\"Total test samples: {total}\")\n",
    "    print(f\"Top-1 accuracy: {top1_correct / total:.3%}\")\n",
    "    print(f\"Top-3 accuracy: {top3_correct / total:.3%}\")\n"
   ]
  },
  {
   "cell_type": "markdown",
   "id": "0dae6a7b",
   "metadata": {},
   "source": []
  }
 ],
 "metadata": {
  "kernelspec": {
   "display_name": "Python 3",
   "language": "python",
   "name": "python3"
  },
  "language_info": {
   "codemirror_mode": {
    "name": "ipython",
    "version": 3
   },
   "file_extension": ".py",
   "mimetype": "text/x-python",
   "name": "python",
   "nbconvert_exporter": "python",
   "pygments_lexer": "ipython3",
   "version": "3.11.3"
  }
 },
 "nbformat": 4,
 "nbformat_minor": 5
}
